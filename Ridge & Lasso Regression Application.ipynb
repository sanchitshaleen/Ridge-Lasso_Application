{
 "cells": [
  {
   "cell_type": "markdown",
   "metadata": {},
   "source": [
    "## Ridge & Lasso Regression Application"
   ]
  },
  {
   "cell_type": "code",
   "execution_count": 3,
   "metadata": {
    "collapsed": false
   },
   "outputs": [],
   "source": [
    "import numpy as np \n",
    "#import sklearn.linear_model.lassocv as lm\n",
    "from sklearn import preprocessing\n",
    "from sklearn.linear_model import Ridge\n",
    "from sklearn.linear_model import Lasso\n",
    "from sklearn.linear_model import LinearRegression\n",
    "import matplotlib.pyplot as plt\n",
    "from matplotlib.backends.backend_pdf import PdfPages\n",
    "import pandas as pd\n",
    "from sklearn.metrics import mean_squared_error\n",
    "#read data\n",
    "\n",
    "df_train = pd.read_csv('bostonderived_train.csv')\n",
    "df_test = pd.read_csv('bostonderived_test.csv')\n",
    "df_fold = pd.read_csv('bostonderived_folds.csv',header = False)\n",
    "\n",
    "train_x = df_train[['lstat','rm','chas','indus','tax','rad','black']]\n",
    "train_y = df_train['medv']\n",
    "\n",
    "test_x = df_test[['lstat','rm','chas','indus','tax','rad','black']]\n",
    "test_y = df_test['medv']"
   ]
  },
  {
   "cell_type": "markdown",
   "metadata": {},
   "source": [
    "####Adding the column header 'folds' in the 'bostonderived_folds.csv' file"
   ]
  },
  {
   "cell_type": "code",
   "execution_count": 4,
   "metadata": {
    "collapsed": false
   },
   "outputs": [],
   "source": [
    "df_fold.index = df_fold.index + 1 \n",
    "df_fold.columns  = ['folds']\n",
    "df_fold.loc[0] = 1\n",
    "df_fold = df_fold.sort()"
   ]
  },
  {
   "cell_type": "markdown",
   "metadata": {},
   "source": [
    "####Splitting the data into Training and Validation Set using the  'bostonderived_folds.csv' file"
   ]
  },
  {
   "cell_type": "code",
   "execution_count": 5,
   "metadata": {
    "collapsed": true
   },
   "outputs": [],
   "source": [
    "def mask(fold,df,df_fold,neg):\n",
    "    mask = df_fold['folds'] == fold\n",
    "    if neg ==1: \n",
    "        mask = ~mask\n",
    "    return df[mask]"
   ]
  },
  {
   "cell_type": "code",
   "execution_count": 6,
   "metadata": {
    "collapsed": true
   },
   "outputs": [],
   "source": [
    "def train_val_split(fold,df,df_fold):\n",
    "    tr = mask(fold,df,df_fold,1)\n",
    "    val = mask(fold,df,df_fold,0)\n",
    "    return tr,val"
   ]
  },
  {
   "cell_type": "code",
   "execution_count": 7,
   "metadata": {
    "collapsed": false
   },
   "outputs": [],
   "source": [
    "tr0,val0 = train_val_split(0,train_x,df_fold)\n",
    "tr1,val1 = train_val_split(1,train_x,df_fold)\n",
    "tr2,val2 = train_val_split(2,train_x,df_fold)\n",
    "tr3,val3 = train_val_split(3,train_x,df_fold)\n",
    "tr4,val4 = train_val_split(4,train_x,df_fold)\n",
    "\n",
    "train_list = [tr0,tr1,tr2,tr3,tr4]\n",
    "val_list = [val0,val1,val2,val3,val4]\n",
    "\n",
    "\n",
    "tr0y,val0y = train_val_split(0,train_y,df_fold)\n",
    "tr1y,val1y = train_val_split(1,train_y,df_fold)\n",
    "tr2y,val2y = train_val_split(2,train_y,df_fold)\n",
    "tr3y,val3y = train_val_split(3,train_y,df_fold)\n",
    "tr4y,val4y = train_val_split(4,train_y,df_fold)\n",
    "\n",
    "train_ylist = [tr0y,tr1y,tr2y,tr3y,tr4y]\n",
    "val_ylist = [val0y,val1y,val2y,val3y,val4y]\n",
    "\n"
   ]
  },
  {
   "cell_type": "markdown",
   "metadata": {},
   "source": [
    "#### Defining functions for Lasso and Ridge Models which return the Mean Squared Error and Co-efficient Values for each Validation Set"
   ]
  },
  {
   "cell_type": "code",
   "execution_count": 8,
   "metadata": {
    "collapsed": true
   },
   "outputs": [],
   "source": [
    "def laS(train,train_y,val,val_y,alph):\n",
    "    model = Lasso(alpha = alph)\n",
    "    coef = model.fit(train,train_y).coef_\n",
    "    predict = model.fit(train,train_y).predict(val)\n",
    "    mse = mean_squared_error(val_y,predict)\n",
    "    return mse, coef\n",
    "\n",
    "def RIG(train,train_y,val,val_y,alph):\n",
    "    model = Ridge(alpha = alph)\n",
    "    coef = model.fit(train,train_y).coef_\n",
    "    predict = model.fit(train,train_y).predict(val)\n",
    "    mse = mean_squared_error(val_y,predict)\n",
    "    return mse, coef"
   ]
  },
  {
   "cell_type": "markdown",
   "metadata": {},
   "source": [
    " #### Running the Lasso Model for all the Regularization Parameters"
   ]
  },
  {
   "cell_type": "code",
   "execution_count": 12,
   "metadata": {
    "collapsed": false
   },
   "outputs": [
    {
     "name": "stdout",
     "output_type": "stream",
     "text": [
      "Lasso Model\n",
      "Parameter Value:0.0001\n",
      "Average of Mean Squared Error across the 5-Folds:31.2435226933\n",
      "\n",
      "Parameter Value:0.0005\n",
      "Average of Mean Squared Error across the 5-Folds:31.2433750833\n",
      "\n",
      "Parameter Value:0.001\n",
      "Average of Mean Squared Error across the 5-Folds:31.2432006274\n",
      "\n",
      "Parameter Value:0.005\n",
      "Average of Mean Squared Error across the 5-Folds:31.2422069452\n",
      "\n",
      "Parameter Value:0.01\n",
      "Average of Mean Squared Error across the 5-Folds:31.2419696764\n",
      "\n",
      "Parameter Value:0.05\n",
      "Average of Mean Squared Error across the 5-Folds:31.2802705912\n",
      "\n",
      "Parameter Value:0.1\n",
      "Average of Mean Squared Error across the 5-Folds:31.31352683\n",
      "\n",
      "Parameter Value:0.2\n",
      "Average of Mean Squared Error across the 5-Folds:31.3352774583\n",
      "\n",
      "Parameter Value:0.3\n",
      "Average of Mean Squared Error across the 5-Folds:31.4618345123\n",
      "\n",
      "Parameter Value:0.4\n",
      "Average of Mean Squared Error across the 5-Folds:31.6413984545\n",
      "\n",
      "Parameter Value:0.5\n",
      "Average of Mean Squared Error across the 5-Folds:31.8786546265\n",
      "\n",
      "The best parameter for Lasso(based on Mean Squared Error) is:\n",
      "0.01\n"
     ]
    }
   ],
   "source": [
    "alphaR = [0.00001, 0.0001, 0.001, 0.005, 0.01, 0.05, 0.1,1,10,100,1000,10000]\n",
    "alphaL = [0.0001, 0.0005, 0.001, 0.005, 0.01, 0.05, 0.1,0.2,0.3,0.4,0.5]\n",
    "\n",
    "print \"Lasso Model\"\n",
    "mse_alpha = []\n",
    "coef_alpha = []\n",
    "# Repeating the procedure for each model parameter\n",
    "for alpnum in alphaL:\n",
    "    print \"Parameter Value:\" + str(alpnum)\n",
    "    mse = []\n",
    "    coef = []\n",
    "    for i in range(5):\n",
    "        train = train_list[i]\n",
    "        val = val_list[i]\n",
    "        trainy = train_ylist[i]\n",
    "        valy = val_ylist[i]\n",
    "        mse_samp , coef_samp = laS(train,trainy,val,valy,alpnum)\n",
    "        mse.append(mse_samp)\n",
    "        coef.append(coef_samp)\n",
    "    print \"Average of Mean Squared Error across the 5-Folds:\"+str(np.mean(mse))+\"\\n\"\n",
    "    coef = np.array(coef)\n",
    "# Averaging the results obtained in each fold\n",
    "    mse_alpha.append(np.mean(mse))\n",
    "    coef_alpha.append(coef.mean(axis = 0))\n",
    "print \"The best parameter for Lasso(based on Mean Squared Error) is:\"    \n",
    "print alphaL[mse_alpha.index(np.min(mse_alpha))]\n",
    "\n",
    "names = test_x.columns.values\n"
   ]
  },
  {
   "cell_type": "markdown",
   "metadata": {},
   "source": [
    "#### Plot for different features used in Lasso Model"
   ]
  },
  {
   "cell_type": "code",
   "execution_count": 13,
   "metadata": {
    "collapsed": false
   },
   "outputs": [
    {
     "data": {
      "image/png": "[encoded data removed]",
      "text/plain": [
       "<matplotlib.figure.Figure at 0x18a52ef0>"
      ]
     },
     "metadata": {},
     "output_type": "display_data"
    }
   ],
   "source": [
    "df = pd.DataFrame(coef_alpha)\n",
    "for i in range(7):\n",
    "    plt.plot(alphaL,df[i],label = names[i])\n",
    "plt.legend()\n",
    "plt.show()\n"
   ]
  },
  {
   "cell_type": "markdown",
   "metadata": {},
   "source": [
    "#####Qualitative Observation: When value of regularization parameters is changed in-case of Lasso Model: At parameter value=0.3, 'chas' variable becomes zero coefficient of 'rm' is decreasing with increase in paramter value(alpha) For rest of the variables, it remains constant. Also , when the parameter value is 0.3 , the co-efficient of the 'chas' variable becomes zero, while the the co-efficient values of 'black' and 'indus' are very close to zero when compared to the co-efficients of other variables. Also, the mean squared error is minimum when the parameter value is 0.01"
   ]
  },
  {
   "cell_type": "markdown",
   "metadata": {},
   "source": [
    " #### Running the Ridge Model for all the Regularization Parameters"
   ]
  },
  {
   "cell_type": "code",
   "execution_count": 23,
   "metadata": {
    "collapsed": false
   },
   "outputs": [
    {
     "name": "stdout",
     "output_type": "stream",
     "text": [
      "Ridge Model\n",
      "Parameter Value:1e-05\n",
      "Average of Mean Squared Error across the 5-Folds:31.2435601653\n",
      "\n",
      "Parameter Value:0.0001\n",
      "Average of Mean Squared Error across the 5-Folds:31.2435552626\n",
      "\n",
      "Parameter Value:0.001\n",
      "Average of Mean Squared Error across the 5-Folds:31.2435062407\n",
      "\n",
      "Parameter Value:0.005\n",
      "Average of Mean Squared Error across the 5-Folds:31.2432884693\n",
      "\n",
      "Parameter Value:0.01\n",
      "Average of Mean Squared Error across the 5-Folds:31.2430164938\n",
      "\n",
      "Parameter Value:0.05\n",
      "Average of Mean Squared Error across the 5-Folds:31.2408502064\n",
      "\n",
      "Parameter Value:0.1\n",
      "Average of Mean Squared Error across the 5-Folds:31.2381659776\n",
      "\n",
      "Parameter Value:1\n",
      "Average of Mean Squared Error across the 5-Folds:31.1940432727\n",
      "\n",
      "Parameter Value:10\n",
      "Average of Mean Squared Error across the 5-Folds:31.0113788648\n",
      "\n",
      "Parameter Value:100\n",
      "Average of Mean Squared Error across the 5-Folds:32.6166520267\n",
      "\n",
      "Parameter Value:1000\n",
      "Average of Mean Squared Error across the 5-Folds:37.3148970393\n",
      "\n",
      "Parameter Value:10000\n",
      "Average of Mean Squared Error across the 5-Folds:43.9708474401\n",
      "\n",
      "The best parameter for Ridge is:10\n"
     ]
    }
   ],
   "source": [
    "print \"Ridge Model\"\n",
    "mse_alpha = []\n",
    "coef_alpha = []\n",
    "# Repeating the procedure for each model parameter\n",
    "for alpnum in alphaR:\n",
    "    print \"Parameter Value:\" + str(alpnum)\n",
    "    mse = []\n",
    "    coef = []\n",
    "    for i in range(5):\n",
    "        train = train_list[i]\n",
    "        val = val_list[i]\n",
    "        trainy = train_ylist[i]\n",
    "        valy = val_ylist[i]\n",
    "        mse_samp , coef_samp = RIG(train,trainy,val,valy,alpnum)\n",
    "        mse.append(mse_samp)\n",
    "        coef.append(coef_samp)\n",
    "    print \"Average of Mean Squared Error across the 5-Folds:\"+str(np.mean(mse))+\"\\n\"\n",
    "    coef = np.array(coef)\n",
    "# Averaging the results obtained in each fold\n",
    "    mse_alpha.append(np.mean(mse))\n",
    "    coef_alpha.append(coef.mean(axis = 0))\n",
    "print \"The best parameter for Ridge is:10\"    \n"
   ]
  },
  {
   "cell_type": "markdown",
   "metadata": {},
   "source": [
    "#### Plot for different features used in Ridge Model"
   ]
  },
  {
   "cell_type": "code",
   "execution_count": 15,
   "metadata": {
    "collapsed": false
   },
   "outputs": [
    {
     "data": {
      "image/png": "[encoded data removed]",
      "text/plain": [
       "<matplotlib.figure.Figure at 0x18cc0390>"
      ]
     },
     "metadata": {},
     "output_type": "display_data"
    }
   ],
   "source": [
    "names = test_x.columns.values\n",
    "# plt.plot(alphaL,mse_alpha)\n",
    "df = pd.DataFrame(coef_alpha)\n",
    "for i in range(7):\n",
    "    plt.plot(alphaR,df[i], label= names[i])\n",
    "plt.legend()    \n",
    "plt.show()"
   ]
  },
  {
   "cell_type": "markdown",
   "metadata": {},
   "source": [
    "####Qualitative Observation: In-case of Ridge Regression Model, the best parameter value comes out to be 10 at which the mean squared error is the minimum. Also, as the parameter value is increased, the mean squared error also increases"
   ]
  },
  {
   "cell_type": "markdown",
   "metadata": {},
   "source": [
    "#### Best Model Parameter(alpha value) for Lasso Model comes out to be 0.01 based on Mean Squared Error"
   ]
  },
  {
   "cell_type": "code",
   "execution_count": 16,
   "metadata": {
    "collapsed": false
   },
   "outputs": [
    {
     "name": "stdout",
     "output_type": "stream",
     "text": [
      "(array([0, 1, 2, 3, 4, 5, 6], dtype=int64),)\n"
     ]
    }
   ],
   "source": [
    "model = Lasso(alpha = .01)\n",
    "lasso = model.fit(train_x,train_y)\n",
    "\n",
    "# Picking only the non-zero features which were the output from the Lasso Model and calculating the Prediction Error\n",
    "print np.nonzero(lasso.coef_)\n",
    "used_features = train_x.columns.values[np.nonzero(lasso.coef_)]\n"
   ]
  },
  {
   "cell_type": "markdown",
   "metadata": {},
   "source": [
    "####Mean Squared Prediction Error for Lasso Model"
   ]
  },
  {
   "cell_type": "code",
   "execution_count": 17,
   "metadata": {
    "collapsed": false
   },
   "outputs": [
    {
     "name": "stdout",
     "output_type": "stream",
     "text": [
      "24.8756410098:Mean Squared Prediction Error for Lasso Model\n"
     ]
    }
   ],
   "source": [
    "predict = model.fit(train_x,train_y).predict(test_x)\n",
    "mse_lass = mean_squared_error(test_y,predict)\n",
    "print str(mse_lass) + ':Mean Squared Prediction Error for Lasso Model'"
   ]
  },
  {
   "cell_type": "markdown",
   "metadata": {},
   "source": [
    "#### Best Model Parameter(alpha value) for Ridge Model comes out to be 0.1"
   ]
  },
  {
   "cell_type": "code",
   "execution_count": 18,
   "metadata": {
    "collapsed": true
   },
   "outputs": [],
   "source": [
    "model = Ridge(alpha = 0.1)\n",
    "predict = model.fit(train_x,train_y).predict(test_x)"
   ]
  },
  {
   "cell_type": "markdown",
   "metadata": {},
   "source": [
    "####Mean Squared Prediction Error for Ridge Model"
   ]
  },
  {
   "cell_type": "code",
   "execution_count": 19,
   "metadata": {
    "collapsed": false
   },
   "outputs": [
    {
     "name": "stdout",
     "output_type": "stream",
     "text": [
      "24.8332135849:Mean Squared Prediction Error for Ridge Model\n"
     ]
    },
    {
     "data": {
      "text/plain": [
       "['lstatrmindustaxradblack']"
      ]
     },
     "execution_count": 19,
     "metadata": {},
     "output_type": "execute_result"
    }
   ],
   "source": [
    "mse_ridge = mean_squared_error(test_y,predict)\n",
    "print str(mse_ridge) + ':Mean Squared Prediction Error for Ridge Model'\n",
    "['lstat' 'rm' 'indus' 'tax' 'rad' 'black']"
   ]
  },
  {
   "cell_type": "markdown",
   "metadata": {},
   "source": [
    "#### Variables that were not dropped in Lasso Model"
   ]
  },
  {
   "cell_type": "code",
   "execution_count": 20,
   "metadata": {
    "collapsed": false
   },
   "outputs": [
    {
     "name": "stdout",
     "output_type": "stream",
     "text": [
      "['lstat' 'rm' 'chas' 'indus' 'tax' 'rad' 'black']\n"
     ]
    }
   ],
   "source": [
    "print used_features"
   ]
  },
  {
   "cell_type": "markdown",
   "metadata": {},
   "source": [
    "####Using the Parameter(alpha value) for Lasso Model  0.3, 'chas' variable gets dropped, but when alpha value =0.3, we don't get the least Mean Squared Error."
   ]
  },
  {
   "cell_type": "code",
   "execution_count": 21,
   "metadata": {
    "collapsed": false
   },
   "outputs": [
    {
     "name": "stdout",
     "output_type": "stream",
     "text": [
      "(array([0, 1, 3, 4, 5, 6], dtype=int64),)\n",
      "['lstat' 'rm' 'indus' 'tax' 'rad' 'black']\n"
     ]
    }
   ],
   "source": [
    "model = Lasso(alpha = .3)\n",
    "lasso = model.fit(train_x,train_y)\n",
    "\n",
    "# Picking only the non-zero features which were the output from the Lasso Model and calculating the Prediction Error\n",
    "print np.nonzero(lasso.coef_)\n",
    "used_features = train_x.columns.values[np.nonzero(lasso.coef_)]\n",
    "print used_features"
   ]
  },
  {
   "cell_type": "markdown",
   "metadata": {},
   "source": [
    "####Running least squares regression on full training data and report the prediction error on the test data.\n",
    "####Case 1: Without dropping the predictor variables\n",
    "####Case 2: With kept variables from lasso feature selection(i.e except the 'chas' feature) and running the Least Squared Regression Model"
   ]
  },
  {
   "cell_type": "code",
   "execution_count": 22,
   "metadata": {
    "collapsed": false
   },
   "outputs": [
    {
     "name": "stdout",
     "output_type": "stream",
     "text": [
      "24.8310760554 for linear regression\n",
      "26.7607113886 for linear regression with kept variables from lasso feature selection\n"
     ]
    }
   ],
   "source": [
    "model = LinearRegression()\n",
    "predict = model.fit(train_x,train_y).predict(test_x)\n",
    "\n",
    "predict_drop = model.fit(train_x[used_features],train_y).predict(test_x[used_features])\n",
    "mse_LR = mean_squared_error(test_y,predict)\n",
    "mse_LR_drop = mean_squared_error(test_y,predict_drop)\n",
    "print str(mse_LR) +' for linear regression'\n",
    "print str(mse_LR_drop) +' for linear regression with kept variables from lasso feature selection'\n"
   ]
  },
  {
   "cell_type": "markdown",
   "metadata": {
    "collapsed": true
   },
   "source": [
    "#### Comparing the variables that were dropped by lasso to the ones which were dropped based on p-values, we observe we see that\n",
    "#### when the parameter value is 0.3, the co-efficient of 'chas' becomes zero and the variable 'chas' gets dropped.\n",
    "#### However, if we use the parameter value to be 0.01 (arrived after considering the minimum least squared error), none of the \n",
    "#### co-efficient of the variables becomes zero althoug the variable like 'black' and 'indus'  are very close to zero. "
   ]
  }
 ],
 "metadata": {
  "kernelspec": {
   "display_name": "Python 2",
   "language": "python",
   "name": "python2"
  },
  "language_info": {
   "codemirror_mode": {
    "name": "ipython",
    "version": 2
   },
   "file_extension": ".py",
   "mimetype": "text/x-python",
   "name": "python",
   "nbconvert_exporter": "python",
   "pygments_lexer": "ipython2",
   "version": "2.7.10"
  }
 },
 "nbformat": 4,
 "nbformat_minor": 0
}
